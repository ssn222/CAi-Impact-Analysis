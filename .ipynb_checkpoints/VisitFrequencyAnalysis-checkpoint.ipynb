{
 "cells": [
  {
   "cell_type": "code",
   "execution_count": 1,
   "metadata": {},
   "outputs": [
    {
     "data": {
      "text/plain": [
       "'\\nRequires 3 files: (Filename - Minimum required columns)\\n    CoachAi Users.csv - MemberId,Status,Join,SiteId\\n    Contacts Data.csv - ID,JoinDate, SiteId\\n    Attendance data.csv - ID,VisitDate(,VisitTime,Entrance) *Sorted by ID, JoinDate\\n        \\n'"
      ]
     },
     "execution_count": 1,
     "metadata": {},
     "output_type": "execute_result"
    }
   ],
   "source": [
    "'''\n",
    "Requires 3 files: (Filename - Minimum required columns)\n",
    "    CoachAi Users.csv - MemberId,Status,Join,SiteId\n",
    "    Contacts Data.csv - ID,JoinDate, SiteId\n",
    "    Attendance data.csv - ID,VisitDate(,VisitTime,Entrance) *Sorted by ID, JoinDate\n",
    "        \n",
    "'''"
   ]
  },
  {
   "cell_type": "code",
   "execution_count": 2,
   "metadata": {},
   "outputs": [],
   "source": [
    "import pandas\n",
    "import datetime\n",
    "import numpy as np\n",
    "import matplotlib.pyplot as plt\n",
    "import coachaiAnalysisModule as analysis\n",
    "from matplotlib.ticker import PercentFormatter\n",
    "%matplotlib inline\n",
    "\n",
    "# Inputs\n",
    "filepath = 'D:\\\\Documents\\\\CoachAi\\\\Club Data\\\\FFAus\\\\Historical analysis (20200102)\\\\20200107 - Third analysis\\\\'\n",
    "contactsFile = \"Contacts data (Cleaned).csv\"\n",
    "attendanceFile = \"Attendance data (20190101 - 20191216) (Cleaned).csv\"\n",
    "coachaiFile = \"CoachAi Users.csv\"\n",
    "analysisStartDate = datetime.datetime(2019, 1, 1)\n",
    "analysisEndDate = datetime.datetime(2019, 8, 31)\n",
    "dataEndDate = datetime.datetime(2019, 12, 16)\n",
    "analysisWeeks = 12"
   ]
  },
  {
   "cell_type": "code",
   "execution_count": 3,
   "metadata": {},
   "outputs": [],
   "source": [
    "# Import files\n",
    "CoachAiUsers = pandas.read_csv(filepath + coachaiFile, dtype={\"MemberId\": str})\n",
    "Contacts = pandas.read_csv(filepath + contactsFile, dtype={\"ID\": str})\n",
    "Attendance = pandas.read_csv(filepath + attendanceFile, dtype={\"ID\": str})\n",
    "\n",
    "# Convert date strings to datetime objects in all files\n",
    "dateFormat1 = '%Y-%m-%d'\n",
    "dateFormat2 = '%Y%m%d'\n",
    "Contacts['JoinDate'] = pandas.to_datetime(Contacts['JoinDate'], format=dateFormat1)\n",
    "Contacts['CancelDate'] = pandas.to_datetime(Contacts['CancelDate'], format=dateFormat1)\n",
    "CoachAiUsers['Join'] = pandas.to_datetime(CoachAiUsers['Join'], format=dateFormat1)\n",
    "Attendance['VisitDate'] = pandas.to_datetime(Attendance['VisitDate'], format=dateFormat1)\n",
    "\n",
    "\n",
    "# Set ID column as index in all files\n",
    "Contacts.set_index('ID', inplace=True)\n",
    "CoachAiUsers.set_index('MemberId', inplace=True)\n",
    "Attendance.set_index('ID', inplace=True)\n",
    "\n",
    "# Make list of contact's IDs\n",
    "IdList = []\n",
    "for contact in Contacts.iterrows():\n",
    "    IdList.append(contact[0])\n",
    "\n",
    "# Initialize results dataframe that will be analyzed and printed to csv\n",
    "resultsDf = pandas.DataFrame(columns = ['ID', 'Site', 'Status', 'JoinDate', 'AvgVisits'])\n"
   ]
  },
  {
   "cell_type": "code",
   "execution_count": 4,
   "metadata": {},
   "outputs": [],
   "source": [
    "# For each ID, get their info and calculate their average visit frequency during their first X weeks\n",
    "for memberId in IdList:\n",
    "    joinDate = analysis.GetJoinDateById(Contacts, memberId)\n",
    "    \n",
    "    if (joinDate >= analysisStartDate) and (joinDate <= analysisEndDate) and (joinDate + datetime.timedelta(weeks=analysisWeeks) < dataEndDate):\n",
    "        usageStatus = analysis.GetCoachAiUsageStatus(CoachAiUsers, memberId)\n",
    "        site = analysis.GetSiteById(Contacts, memberId)\n",
    "        periodEndDate = joinDate + datetime.timedelta(weeks=analysisWeeks)\n",
    "        avgVisits = analysis.CountVisitsBetweenDates(Attendance, memberId, joinDate, joinDate + datetime.timedelta(weeks=analysisWeeks)) / analysisWeeks\n",
    "        resultsDf = resultsDf.append({'ID': memberId, 'Site': site, 'Status': usageStatus, 'JoinDate': joinDate, 'AvgVisits': avgVisits}, ignore_index=True)\n"
   ]
  },
  {
   "cell_type": "code",
   "execution_count": 5,
   "metadata": {},
   "outputs": [],
   "source": [
    "# Write results to csv\n",
    "resultsDf.to_csv(filepath + datetime.date.today().strftime(dateFormat2) + ' - ' + str(analysisWeeks) + ' Week New Member Analysis.csv', index=False)\n"
   ]
  },
  {
   "cell_type": "code",
   "execution_count": 6,
   "metadata": {},
   "outputs": [
    {
     "name": "stdout",
     "output_type": "stream",
     "text": [
      "Summary of Results - 12 Weeks:\n",
      "\n",
      "Total average: 1.2657174933659905 (6532 rows)\n",
      "High risk [0 - 0.8): 0.432639314145744\n",
      "Medium risk [0.8 - 1.3): 0.1434476423759951\n",
      "Low risk [1.3 - 2): 0.1644213104715248\n",
      "Regulars [2 - ): 0.25949173300673606\n",
      "\n",
      "          ID  Site Status   JoinDate  AvgVisits\n",
      "0  100000596  None     No 2019-07-31   0.000000\n",
      "1  100000629  None     No 2019-05-14   1.916667\n",
      "2  100000812  None     No 2019-07-24   0.666667\n",
      "3  100000877  None     No 2019-01-29   2.500000\n",
      "4  100001043  None     No 2019-03-12   1.250000\n",
      "\n"
     ]
    }
   ],
   "source": [
    "# Prepare and display results summary\n",
    "controlDf = resultsDf.loc[resultsDf['Status'] == 'No']\n",
    "usersDf = resultsDf.loc[resultsDf['Status'] != 'No']\n",
    "\n",
    "print(\"Summary of Results - \" + str(analysisWeeks) + \" Weeks:\")\n",
    "analysis.PrintResultsSummary(resultsDf, 'Total')"
   ]
  },
  {
   "cell_type": "code",
   "execution_count": 7,
   "metadata": {},
   "outputs": [
    {
     "name": "stdout",
     "output_type": "stream",
     "text": [
      "\n",
      "Non-users average: 1.2646344580777065 (6520 rows)\n",
      "High risk [0 - 0.8): 0.43328220858895705\n",
      "Medium risk [0.8 - 1.3): 0.14340490797546013\n",
      "Low risk [1.3 - 2): 0.1642638036809816\n",
      "Regulars [2 - ): 0.25904907975460123\n",
      "\n",
      "          ID  Site Status   JoinDate  AvgVisits\n",
      "0  100000596  None     No 2019-07-31   0.000000\n",
      "1  100000629  None     No 2019-05-14   1.916667\n",
      "2  100000812  None     No 2019-07-24   0.666667\n",
      "3  100000877  None     No 2019-01-29   2.500000\n",
      "4  100001043  None     No 2019-03-12   1.250000\n",
      "\n"
     ]
    }
   ],
   "source": [
    "analysis.PrintResultsSummary(controlDf, 'Non-users')"
   ]
  },
  {
   "cell_type": "code",
   "execution_count": 8,
   "metadata": {},
   "outputs": [
    {
     "name": "stdout",
     "output_type": "stream",
     "text": [
      "\n",
      "Users average: 1.8541666666666667 (12 rows)\n",
      "High risk [0 - 0.8): 0.08333333333333333\n",
      "Medium risk [0.8 - 1.3): 0.16666666666666666\n",
      "Low risk [1.3 - 2): 0.25\n",
      "Regulars [2 - ): 0.5\n",
      "\n",
      "             ID  Site Status   JoinDate  AvgVisits\n",
      "3238  100156221  None    NaN 2019-05-22   2.000000\n",
      "3676  100162140  None    NaN 2019-06-18   1.666667\n",
      "4319  100170361  None    NaN 2019-07-16   3.000000\n",
      "4330  100170500  None    NaN 2019-07-15   2.250000\n",
      "4384  100171304  None    NaN 2019-07-16   2.083333\n",
      "\n"
     ]
    }
   ],
   "source": [
    "analysis.PrintResultsSummary(usersDf, 'Users')"
   ]
  },
  {
   "cell_type": "code",
   "execution_count": 9,
   "metadata": {},
   "outputs": [
    {
     "data": {
      "image/png": "[encoded data removed]",
      "text/plain": [
       "<Figure size 432x288 with 1 Axes>"
      ]
     },
     "metadata": {
      "needs_background": "light"
     },
     "output_type": "display_data"
    }
   ],
   "source": [
    "# Histogram of average visit frequency\n",
    "bin_edges = [0, 0.01, 0.8, 1.3, 2]\n",
    "_ = plt.hist(resultsDf['AvgVisits'], weights=np.ones(len(resultsDf.index)) / len(resultsDf.index), bins=bin_edges)\n",
    "_ = plt.xlabel('Average weekly visit frequency')\n",
    "_ = plt.ylabel('Count')\n",
    "plt.gca().yaxis.set_major_formatter(PercentFormatter(1))\n",
    "plt.show()\n"
   ]
  },
  {
   "cell_type": "code",
   "execution_count": 18,
   "metadata": {},
   "outputs": [],
   "source": [
    "# Survival graph\n",
    "\n",
    "# 1. Add membership length to each entry in resultsDf\n",
    "membershipLengths = []\n",
    "for member in resultsDf['ID']:\n",
    "    joinDate = analysis.GetJoinDateById(Contacts, member)\n",
    "    cancelDate = analysis.GetCancelDateById(Contacts, member)\n",
    "    membershipLength = cancelDate - joinDate\n",
    "    membershipLengthInMonths = membershipLength.days / 30.5\n",
    "    if membershipLengthInMonths > 0:\n",
    "        membershipLengths.append(membershipLengthInMonths)\n",
    "    else:\n",
    "        membershipLengths.append(999)\n",
    "\n",
    "resultsDf['MembershipLength'] = membershipLengths\n",
    "\n",
    "\n",
    "\n",
    "    \n",
    "    "
   ]
  },
  {
   "cell_type": "code",
   "execution_count": 20,
   "metadata": {},
   "outputs": [
    {
     "name": "stdout",
     "output_type": "stream",
     "text": [
      "[1.0, 0.9872933251684017, 0.9805572565829761, 0.9471830985915493, 0.9233006736068585, 0.9064605021432945, 0.8963563992651562, 0.890538885486834, 0.8871708511941212, 0.8860992039191672, 0.8856399265156154, 0.8854868340477648]\n"
     ]
    }
   ],
   "source": [
    "# 2. Calculate percent of members remaining each month after joining\n",
    "survivalData = []\n",
    "\n",
    "for i in range(12):\n",
    "    count = 0\n",
    "    for length in resultsDf['MembershipLength']:    \n",
    "        if length > i:\n",
    "            count += 1\n",
    "    \n",
    "    survivalData.append(count/len(resultsDf['MembershipLength']))\n",
    "    \n",
    "print(survivalData)"
   ]
  },
  {
   "cell_type": "code",
   "execution_count": null,
   "metadata": {},
   "outputs": [],
   "source": []
  }
 ],
 "metadata": {
  "kernelspec": {
   "display_name": "Python 3",
   "language": "python",
   "name": "python3"
  },
  "language_info": {
   "codemirror_mode": {
    "name": "ipython",
    "version": 3
   },
   "file_extension": ".py",
   "mimetype": "text/x-python",
   "name": "python",
   "nbconvert_exporter": "python",
   "pygments_lexer": "ipython3",
   "version": "3.7.6"
  }
 },
 "nbformat": 4,
 "nbformat_minor": 2
}
