{
 "cells": [
  {
   "cell_type": "code",
   "execution_count": 4,
   "metadata": {},
   "outputs": [],
   "source": [
    "import datetime\n",
    "import pandas as pd\n",
    "import matplotlib.pyplot as plt\n",
    "%matplotlib inline\n",
    "import coachaiAnalysisModule as cam"
   ]
  },
  {
   "cell_type": "code",
   "execution_count": null,
   "metadata": {},
   "outputs": [],
   "source": [
    "# Inputs\n",
    "filepath = 'D:\\\\Documents\\\\CoachAi\\\\Club Data\\\\FFAus\\\\20200102 - FFA Historical analysis\\\\20190102 - Second analysis\\\\'\n",
    "contactsFile = \"Contacts data (Cleaned).csv\"\n",
    "attendanceFile = \"Attendance data (Cleaned).csv\"\n",
    "coachaiFile = \"CoachAi Users.csv\""
   ]
  },
  {
   "cell_type": "code",
   "execution_count": null,
   "metadata": {},
   "outputs": [],
   "source": [
    "# Import files\n",
    "CoachAiUsers = pandas.read_csv(filepath + coachaiFile, dtype={\"MemberId\": str})\n",
    "Contacts = pandas.read_csv(filepath + contactsFile, dtype={\"ID\": str})\n",
    "Attendance = pandas.read_csv(filepath + attendanceFile, dtype={\"ID\": str})"
   ]
  },
  {
   "cell_type": "code",
   "execution_count": null,
   "metadata": {},
   "outputs": [],
   "source": []
  }
 ],
 "metadata": {
  "kernelspec": {
   "display_name": "Python 3",
   "language": "python",
   "name": "python3"
  },
  "language_info": {
   "codemirror_mode": {
    "name": "ipython",
    "version": 3
   },
   "file_extension": ".py",
   "mimetype": "text/x-python",
   "name": "python",
   "nbconvert_exporter": "python",
   "pygments_lexer": "ipython3",
   "version": "3.7.3"
  }
 },
 "nbformat": 4,
 "nbformat_minor": 2
}
